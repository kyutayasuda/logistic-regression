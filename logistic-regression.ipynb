{
 "cells": [
  {
   "cell_type": "code",
   "execution_count": 1,
   "id": "b4e14c67",
   "metadata": {},
   "outputs": [
    {
     "data": {
      "text/plain": [
       "<Axes: >"
      ]
     },
     "execution_count": 1,
     "metadata": {},
     "output_type": "execute_result"
    },
    {
     "data": {
      "image/png": "[encoded data removed]",
      "text/plain": [
       "<Figure size 640x480 with 1 Axes>"
      ]
     },
     "metadata": {},
     "output_type": "display_data"
    }
   ],
   "source": [
    "import pandas as pd\n",
    "from sklearn.model_selection import train_test_split\n",
    "from sklearn.preprocessing import StandardScaler\n",
    "from sklearn.linear_model import LogisticRegression\n",
    "from sklearn.metrics import accuracy_score, confusion_matrix, classification_report\n",
    "from statsmodels.miscmodels.ordinal_model import OrderedModel\n",
    "import numpy as np\n",
    "\n",
    "\n",
    "wine = pd.read_csv(\"winequality-red.csv\")\n",
    "wine['quality'].hist()"
   ]
  },
  {
   "cell_type": "code",
   "execution_count": 2,
   "id": "dd51bbab",
   "metadata": {},
   "outputs": [
    {
     "data": {
      "text/html": [
       "<div>\n",
       "<style scoped>\n",
       "    .dataframe tbody tr th:only-of-type {\n",
       "        vertical-align: middle;\n",
       "    }\n",
       "\n",
       "    .dataframe tbody tr th {\n",
       "        vertical-align: top;\n",
       "    }\n",
       "\n",
       "    .dataframe thead th {\n",
       "        text-align: right;\n",
       "    }\n",
       "</style>\n",
       "<table border=\"1\" class=\"dataframe\">\n",
       "  <thead>\n",
       "    <tr style=\"text-align: right;\">\n",
       "      <th></th>\n",
       "      <th>fixed acidity</th>\n",
       "      <th>volatile acidity</th>\n",
       "      <th>citric acid</th>\n",
       "      <th>residual sugar</th>\n",
       "      <th>chlorides</th>\n",
       "      <th>free sulfur dioxide</th>\n",
       "      <th>total sulfur dioxide</th>\n",
       "      <th>density</th>\n",
       "      <th>pH</th>\n",
       "      <th>sulphates</th>\n",
       "      <th>alcohol</th>\n",
       "      <th>quality</th>\n",
       "    </tr>\n",
       "  </thead>\n",
       "  <tbody>\n",
       "    <tr>\n",
       "      <th>0</th>\n",
       "      <td>7.4</td>\n",
       "      <td>0.70</td>\n",
       "      <td>0.00</td>\n",
       "      <td>1.9</td>\n",
       "      <td>0.076</td>\n",
       "      <td>11</td>\n",
       "      <td>34</td>\n",
       "      <td>0.9978</td>\n",
       "      <td>3.51</td>\n",
       "      <td>0.56</td>\n",
       "      <td>9.4</td>\n",
       "      <td>5</td>\n",
       "    </tr>\n",
       "    <tr>\n",
       "      <th>1</th>\n",
       "      <td>7.8</td>\n",
       "      <td>0.88</td>\n",
       "      <td>0.00</td>\n",
       "      <td>2.6</td>\n",
       "      <td>0.098</td>\n",
       "      <td>25</td>\n",
       "      <td>67</td>\n",
       "      <td>0.9968</td>\n",
       "      <td>3.20</td>\n",
       "      <td>0.68</td>\n",
       "      <td>9.8</td>\n",
       "      <td>5</td>\n",
       "    </tr>\n",
       "    <tr>\n",
       "      <th>2</th>\n",
       "      <td>7.8</td>\n",
       "      <td>0.76</td>\n",
       "      <td>0.04</td>\n",
       "      <td>2.3</td>\n",
       "      <td>0.092</td>\n",
       "      <td>15</td>\n",
       "      <td>54</td>\n",
       "      <td>0.9970</td>\n",
       "      <td>3.26</td>\n",
       "      <td>0.65</td>\n",
       "      <td>9.8</td>\n",
       "      <td>5</td>\n",
       "    </tr>\n",
       "    <tr>\n",
       "      <th>3</th>\n",
       "      <td>11.2</td>\n",
       "      <td>0.28</td>\n",
       "      <td>0.56</td>\n",
       "      <td>1.9</td>\n",
       "      <td>0.075</td>\n",
       "      <td>17</td>\n",
       "      <td>60</td>\n",
       "      <td>0.9980</td>\n",
       "      <td>3.16</td>\n",
       "      <td>0.58</td>\n",
       "      <td>9.8</td>\n",
       "      <td>6</td>\n",
       "    </tr>\n",
       "    <tr>\n",
       "      <th>4</th>\n",
       "      <td>7.4</td>\n",
       "      <td>0.70</td>\n",
       "      <td>0.00</td>\n",
       "      <td>1.9</td>\n",
       "      <td>0.076</td>\n",
       "      <td>11</td>\n",
       "      <td>34</td>\n",
       "      <td>0.9978</td>\n",
       "      <td>3.51</td>\n",
       "      <td>0.56</td>\n",
       "      <td>9.4</td>\n",
       "      <td>5</td>\n",
       "    </tr>\n",
       "  </tbody>\n",
       "</table>\n",
       "</div>"
      ],
      "text/plain": [
       "   fixed acidity  volatile acidity  citric acid  residual sugar  chlorides  \\\n",
       "0            7.4              0.70         0.00             1.9      0.076   \n",
       "1            7.8              0.88         0.00             2.6      0.098   \n",
       "2            7.8              0.76         0.04             2.3      0.092   \n",
       "3           11.2              0.28         0.56             1.9      0.075   \n",
       "4            7.4              0.70         0.00             1.9      0.076   \n",
       "\n",
       "   free sulfur dioxide  total sulfur dioxide  density    pH  sulphates  \\\n",
       "0                   11                    34   0.9978  3.51       0.56   \n",
       "1                   25                    67   0.9968  3.20       0.68   \n",
       "2                   15                    54   0.9970  3.26       0.65   \n",
       "3                   17                    60   0.9980  3.16       0.58   \n",
       "4                   11                    34   0.9978  3.51       0.56   \n",
       "\n",
       "   alcohol  quality  \n",
       "0      9.4        5  \n",
       "1      9.8        5  \n",
       "2      9.8        5  \n",
       "3      9.8        6  \n",
       "4      9.4        5  "
      ]
     },
     "execution_count": 2,
     "metadata": {},
     "output_type": "execute_result"
    }
   ],
   "source": [
    "wine.head()"
   ]
  },
  {
   "cell_type": "code",
   "execution_count": 3,
   "id": "e271f370",
   "metadata": {},
   "outputs": [
    {
     "name": "stdout",
     "output_type": "stream",
     "text": [
      "<class 'pandas.core.frame.DataFrame'>\n",
      "RangeIndex: 1599 entries, 0 to 1598\n",
      "Data columns (total 12 columns):\n",
      " #   Column                Non-Null Count  Dtype  \n",
      "---  ------                --------------  -----  \n",
      " 0   fixed acidity         1599 non-null   float64\n",
      " 1   volatile acidity      1599 non-null   float64\n",
      " 2   citric acid           1599 non-null   float64\n",
      " 3   residual sugar        1599 non-null   float64\n",
      " 4   chlorides             1599 non-null   float64\n",
      " 5   free sulfur dioxide   1599 non-null   int64  \n",
      " 6   total sulfur dioxide  1599 non-null   int64  \n",
      " 7   density               1599 non-null   float64\n",
      " 8   pH                    1599 non-null   float64\n",
      " 9   sulphates             1599 non-null   float64\n",
      " 10  alcohol               1599 non-null   float64\n",
      " 11  quality               1599 non-null   int64  \n",
      "dtypes: float64(9), int64(3)\n",
      "memory usage: 150.0 KB\n"
     ]
    }
   ],
   "source": [
    "wine.info()"
   ]
  },
  {
   "cell_type": "code",
   "execution_count": 4,
   "id": "2d0b9e60",
   "metadata": {},
   "outputs": [
    {
     "data": {
      "text/plain": [
       "5    681\n",
       "6    638\n",
       "7    199\n",
       "4     53\n",
       "8     18\n",
       "3     10\n",
       "Name: quality, dtype: int64"
      ]
     },
     "execution_count": 4,
     "metadata": {},
     "output_type": "execute_result"
    }
   ],
   "source": [
    "wine[\"quality\"].value_counts()"
   ]
  },
  {
   "cell_type": "code",
   "execution_count": 5,
   "id": "bad019a3",
   "metadata": {},
   "outputs": [
    {
     "data": {
      "text/html": [
       "<div>\n",
       "<style scoped>\n",
       "    .dataframe tbody tr th:only-of-type {\n",
       "        vertical-align: middle;\n",
       "    }\n",
       "\n",
       "    .dataframe tbody tr th {\n",
       "        vertical-align: top;\n",
       "    }\n",
       "\n",
       "    .dataframe thead th {\n",
       "        text-align: right;\n",
       "    }\n",
       "</style>\n",
       "<table border=\"1\" class=\"dataframe\">\n",
       "  <thead>\n",
       "    <tr style=\"text-align: right;\">\n",
       "      <th></th>\n",
       "      <th>fixed acidity</th>\n",
       "      <th>volatile acidity</th>\n",
       "      <th>citric acid</th>\n",
       "      <th>residual sugar</th>\n",
       "      <th>chlorides</th>\n",
       "      <th>free sulfur dioxide</th>\n",
       "      <th>total sulfur dioxide</th>\n",
       "      <th>density</th>\n",
       "      <th>pH</th>\n",
       "      <th>sulphates</th>\n",
       "      <th>alcohol</th>\n",
       "      <th>quality</th>\n",
       "    </tr>\n",
       "  </thead>\n",
       "  <tbody>\n",
       "    <tr>\n",
       "      <th>count</th>\n",
       "      <td>1599.000000</td>\n",
       "      <td>1599.000000</td>\n",
       "      <td>1599.000000</td>\n",
       "      <td>1599.000000</td>\n",
       "      <td>1599.000000</td>\n",
       "      <td>1599.000000</td>\n",
       "      <td>1599.000000</td>\n",
       "      <td>1599.000000</td>\n",
       "      <td>1599.000000</td>\n",
       "      <td>1599.000000</td>\n",
       "      <td>1599.000000</td>\n",
       "      <td>1599.000000</td>\n",
       "    </tr>\n",
       "    <tr>\n",
       "      <th>mean</th>\n",
       "      <td>8.319637</td>\n",
       "      <td>0.527821</td>\n",
       "      <td>0.270976</td>\n",
       "      <td>2.538806</td>\n",
       "      <td>0.087467</td>\n",
       "      <td>15.875547</td>\n",
       "      <td>46.468418</td>\n",
       "      <td>0.996747</td>\n",
       "      <td>3.311113</td>\n",
       "      <td>0.658149</td>\n",
       "      <td>10.422983</td>\n",
       "      <td>5.636023</td>\n",
       "    </tr>\n",
       "    <tr>\n",
       "      <th>std</th>\n",
       "      <td>1.741096</td>\n",
       "      <td>0.179060</td>\n",
       "      <td>0.194801</td>\n",
       "      <td>1.409928</td>\n",
       "      <td>0.047065</td>\n",
       "      <td>10.460434</td>\n",
       "      <td>32.895920</td>\n",
       "      <td>0.001887</td>\n",
       "      <td>0.154386</td>\n",
       "      <td>0.169507</td>\n",
       "      <td>1.065668</td>\n",
       "      <td>0.807569</td>\n",
       "    </tr>\n",
       "    <tr>\n",
       "      <th>min</th>\n",
       "      <td>4.600000</td>\n",
       "      <td>0.120000</td>\n",
       "      <td>0.000000</td>\n",
       "      <td>0.900000</td>\n",
       "      <td>0.012000</td>\n",
       "      <td>1.000000</td>\n",
       "      <td>6.000000</td>\n",
       "      <td>0.990070</td>\n",
       "      <td>2.740000</td>\n",
       "      <td>0.330000</td>\n",
       "      <td>8.400000</td>\n",
       "      <td>3.000000</td>\n",
       "    </tr>\n",
       "    <tr>\n",
       "      <th>25%</th>\n",
       "      <td>7.100000</td>\n",
       "      <td>0.390000</td>\n",
       "      <td>0.090000</td>\n",
       "      <td>1.900000</td>\n",
       "      <td>0.070000</td>\n",
       "      <td>7.000000</td>\n",
       "      <td>22.000000</td>\n",
       "      <td>0.995600</td>\n",
       "      <td>3.210000</td>\n",
       "      <td>0.550000</td>\n",
       "      <td>9.500000</td>\n",
       "      <td>5.000000</td>\n",
       "    </tr>\n",
       "    <tr>\n",
       "      <th>50%</th>\n",
       "      <td>7.900000</td>\n",
       "      <td>0.520000</td>\n",
       "      <td>0.260000</td>\n",
       "      <td>2.200000</td>\n",
       "      <td>0.079000</td>\n",
       "      <td>14.000000</td>\n",
       "      <td>38.000000</td>\n",
       "      <td>0.996750</td>\n",
       "      <td>3.310000</td>\n",
       "      <td>0.620000</td>\n",
       "      <td>10.200000</td>\n",
       "      <td>6.000000</td>\n",
       "    </tr>\n",
       "    <tr>\n",
       "      <th>75%</th>\n",
       "      <td>9.200000</td>\n",
       "      <td>0.640000</td>\n",
       "      <td>0.420000</td>\n",
       "      <td>2.600000</td>\n",
       "      <td>0.090000</td>\n",
       "      <td>21.000000</td>\n",
       "      <td>62.000000</td>\n",
       "      <td>0.997835</td>\n",
       "      <td>3.400000</td>\n",
       "      <td>0.730000</td>\n",
       "      <td>11.100000</td>\n",
       "      <td>6.000000</td>\n",
       "    </tr>\n",
       "    <tr>\n",
       "      <th>max</th>\n",
       "      <td>15.900000</td>\n",
       "      <td>1.580000</td>\n",
       "      <td>1.000000</td>\n",
       "      <td>15.500000</td>\n",
       "      <td>0.611000</td>\n",
       "      <td>72.000000</td>\n",
       "      <td>289.000000</td>\n",
       "      <td>1.003690</td>\n",
       "      <td>4.010000</td>\n",
       "      <td>2.000000</td>\n",
       "      <td>14.900000</td>\n",
       "      <td>8.000000</td>\n",
       "    </tr>\n",
       "  </tbody>\n",
       "</table>\n",
       "</div>"
      ],
      "text/plain": [
       "       fixed acidity  volatile acidity  citric acid  residual sugar  \\\n",
       "count    1599.000000       1599.000000  1599.000000     1599.000000   \n",
       "mean        8.319637          0.527821     0.270976        2.538806   \n",
       "std         1.741096          0.179060     0.194801        1.409928   \n",
       "min         4.600000          0.120000     0.000000        0.900000   \n",
       "25%         7.100000          0.390000     0.090000        1.900000   \n",
       "50%         7.900000          0.520000     0.260000        2.200000   \n",
       "75%         9.200000          0.640000     0.420000        2.600000   \n",
       "max        15.900000          1.580000     1.000000       15.500000   \n",
       "\n",
       "         chlorides  free sulfur dioxide  total sulfur dioxide      density  \\\n",
       "count  1599.000000          1599.000000           1599.000000  1599.000000   \n",
       "mean      0.087467            15.875547             46.468418     0.996747   \n",
       "std       0.047065            10.460434             32.895920     0.001887   \n",
       "min       0.012000             1.000000              6.000000     0.990070   \n",
       "25%       0.070000             7.000000             22.000000     0.995600   \n",
       "50%       0.079000            14.000000             38.000000     0.996750   \n",
       "75%       0.090000            21.000000             62.000000     0.997835   \n",
       "max       0.611000            72.000000            289.000000     1.003690   \n",
       "\n",
       "                pH    sulphates      alcohol      quality  \n",
       "count  1599.000000  1599.000000  1599.000000  1599.000000  \n",
       "mean      3.311113     0.658149    10.422983     5.636023  \n",
       "std       0.154386     0.169507     1.065668     0.807569  \n",
       "min       2.740000     0.330000     8.400000     3.000000  \n",
       "25%       3.210000     0.550000     9.500000     5.000000  \n",
       "50%       3.310000     0.620000    10.200000     6.000000  \n",
       "75%       3.400000     0.730000    11.100000     6.000000  \n",
       "max       4.010000     2.000000    14.900000     8.000000  "
      ]
     },
     "execution_count": 5,
     "metadata": {},
     "output_type": "execute_result"
    }
   ],
   "source": [
    "wine.describe()"
   ]
  },
  {
   "cell_type": "code",
   "execution_count": 6,
   "id": "513274f8",
   "metadata": {},
   "outputs": [
    {
     "data": {
      "image/png": "[encoded data removed]",
      "text/plain": [
       "<Figure size 2000x1500 with 12 Axes>"
      ]
     },
     "metadata": {},
     "output_type": "display_data"
    }
   ],
   "source": [
    "%matplotlib inline\n",
    "import matplotlib.pyplot as plt\n",
    "wine.hist(bins=50, figsize=(20,15))\n",
    "plt.show()"
   ]
  },
  {
   "cell_type": "code",
   "execution_count": 7,
   "id": "5cf3da3c",
   "metadata": {},
   "outputs": [],
   "source": [
    "sample = wine.sample(n=5, random_state=123)"
   ]
  },
  {
   "cell_type": "code",
   "execution_count": 8,
   "id": "447b6514",
   "metadata": {},
   "outputs": [
    {
     "data": {
      "text/html": [
       "<div>\n",
       "<style scoped>\n",
       "    .dataframe tbody tr th:only-of-type {\n",
       "        vertical-align: middle;\n",
       "    }\n",
       "\n",
       "    .dataframe tbody tr th {\n",
       "        vertical-align: top;\n",
       "    }\n",
       "\n",
       "    .dataframe thead th {\n",
       "        text-align: right;\n",
       "    }\n",
       "</style>\n",
       "<table border=\"1\" class=\"dataframe\">\n",
       "  <thead>\n",
       "    <tr style=\"text-align: right;\">\n",
       "      <th></th>\n",
       "      <th>fixed acidity</th>\n",
       "      <th>volatile acidity</th>\n",
       "      <th>citric acid</th>\n",
       "      <th>residual sugar</th>\n",
       "      <th>chlorides</th>\n",
       "      <th>free sulfur dioxide</th>\n",
       "      <th>total sulfur dioxide</th>\n",
       "      <th>density</th>\n",
       "      <th>pH</th>\n",
       "      <th>sulphates</th>\n",
       "      <th>alcohol</th>\n",
       "      <th>quality</th>\n",
       "    </tr>\n",
       "  </thead>\n",
       "  <tbody>\n",
       "    <tr>\n",
       "      <th>912</th>\n",
       "      <td>10.0</td>\n",
       "      <td>0.46</td>\n",
       "      <td>0.44</td>\n",
       "      <td>2.9</td>\n",
       "      <td>0.065</td>\n",
       "      <td>4</td>\n",
       "      <td>8</td>\n",
       "      <td>0.99674</td>\n",
       "      <td>3.33</td>\n",
       "      <td>0.62</td>\n",
       "      <td>12.2</td>\n",
       "      <td>6</td>\n",
       "    </tr>\n",
       "    <tr>\n",
       "      <th>772</th>\n",
       "      <td>9.5</td>\n",
       "      <td>0.57</td>\n",
       "      <td>0.27</td>\n",
       "      <td>2.3</td>\n",
       "      <td>0.082</td>\n",
       "      <td>23</td>\n",
       "      <td>144</td>\n",
       "      <td>0.99782</td>\n",
       "      <td>3.27</td>\n",
       "      <td>0.55</td>\n",
       "      <td>9.4</td>\n",
       "      <td>5</td>\n",
       "    </tr>\n",
       "    <tr>\n",
       "      <th>1037</th>\n",
       "      <td>7.3</td>\n",
       "      <td>0.91</td>\n",
       "      <td>0.10</td>\n",
       "      <td>1.8</td>\n",
       "      <td>0.074</td>\n",
       "      <td>20</td>\n",
       "      <td>56</td>\n",
       "      <td>0.99672</td>\n",
       "      <td>3.35</td>\n",
       "      <td>0.56</td>\n",
       "      <td>9.2</td>\n",
       "      <td>5</td>\n",
       "    </tr>\n",
       "    <tr>\n",
       "      <th>1106</th>\n",
       "      <td>8.2</td>\n",
       "      <td>0.23</td>\n",
       "      <td>0.42</td>\n",
       "      <td>1.9</td>\n",
       "      <td>0.069</td>\n",
       "      <td>9</td>\n",
       "      <td>17</td>\n",
       "      <td>0.99376</td>\n",
       "      <td>3.21</td>\n",
       "      <td>0.54</td>\n",
       "      <td>12.3</td>\n",
       "      <td>6</td>\n",
       "    </tr>\n",
       "    <tr>\n",
       "      <th>263</th>\n",
       "      <td>7.9</td>\n",
       "      <td>0.37</td>\n",
       "      <td>0.23</td>\n",
       "      <td>1.8</td>\n",
       "      <td>0.077</td>\n",
       "      <td>23</td>\n",
       "      <td>49</td>\n",
       "      <td>0.99630</td>\n",
       "      <td>3.28</td>\n",
       "      <td>0.67</td>\n",
       "      <td>9.3</td>\n",
       "      <td>5</td>\n",
       "    </tr>\n",
       "  </tbody>\n",
       "</table>\n",
       "</div>"
      ],
      "text/plain": [
       "      fixed acidity  volatile acidity  citric acid  residual sugar  chlorides  \\\n",
       "912            10.0              0.46         0.44             2.9      0.065   \n",
       "772             9.5              0.57         0.27             2.3      0.082   \n",
       "1037            7.3              0.91         0.10             1.8      0.074   \n",
       "1106            8.2              0.23         0.42             1.9      0.069   \n",
       "263             7.9              0.37         0.23             1.8      0.077   \n",
       "\n",
       "      free sulfur dioxide  total sulfur dioxide  density    pH  sulphates  \\\n",
       "912                     4                     8  0.99674  3.33       0.62   \n",
       "772                    23                   144  0.99782  3.27       0.55   \n",
       "1037                   20                    56  0.99672  3.35       0.56   \n",
       "1106                    9                    17  0.99376  3.21       0.54   \n",
       "263                    23                    49  0.99630  3.28       0.67   \n",
       "\n",
       "      alcohol  quality  \n",
       "912      12.2        6  \n",
       "772       9.4        5  \n",
       "1037      9.2        5  \n",
       "1106     12.3        6  \n",
       "263       9.3        5  "
      ]
     },
     "execution_count": 8,
     "metadata": {},
     "output_type": "execute_result"
    }
   ],
   "source": [
    "sample"
   ]
  },
  {
   "cell_type": "code",
   "execution_count": 9,
   "id": "54efa40c",
   "metadata": {},
   "outputs": [
    {
     "data": {
      "text/plain": [
       "quality                 1.000000\n",
       "alcohol                 0.476166\n",
       "sulphates               0.251397\n",
       "citric acid             0.226373\n",
       "fixed acidity           0.124052\n",
       "residual sugar          0.013732\n",
       "free sulfur dioxide    -0.050554\n",
       "pH                     -0.057731\n",
       "chlorides              -0.128907\n",
       "density                -0.174919\n",
       "total sulfur dioxide   -0.185112\n",
       "volatile acidity       -0.390558\n",
       "Name: quality, dtype: float64"
      ]
     },
     "execution_count": 9,
     "metadata": {},
     "output_type": "execute_result"
    }
   ],
   "source": [
    "corr_matrix = wine.corr()\n",
    "corr_matrix[\"quality\"].sort_values(ascending=False)"
   ]
  },
  {
   "cell_type": "code",
   "execution_count": 10,
   "id": "c76c0904",
   "metadata": {},
   "outputs": [
    {
     "name": "stdout",
     "output_type": "stream",
     "text": [
      "Before Over Sampling, count of the label '8': 13\n",
      "Before Over Sampling, count of the label '7': 157\n",
      "Before Over Sampling, count of the label '6': 506\n",
      "Before Over Sampling, count of the label '5': 551\n",
      "Before Over Sampling, count of the label '4': 43\n",
      "Before Over Sampling, count of the label '3': 9 \n",
      "\n",
      "After Over Sampling, the shape of the train_X: (1512, 11)\n",
      "After Over Sampling, the shape of the train_y: (1512,) \n",
      "\n",
      "After Over Sampling, count of the label '8': 90\n",
      "After Over Sampling, count of the label '7': 200\n",
      "After Over Sampling, count of the label '6': 551\n",
      "After Over Sampling, count of the label '5': 551\n",
      "After Over Sampling, count of the label '4': 100\n",
      "After Over Sampling, count of the label '3': 20\n"
     ]
    }
   ],
   "source": [
    "# Split the data into training and testing sets\n",
    "X = wine.drop('quality', axis=1)\n",
    "y = wine['quality']\n",
    "\n",
    "X_train, X_test, y_train, y_test = train_test_split(X, y, test_size=0.2, random_state=42)\n",
    "sample_X = sample.drop('quality', axis=1)\n",
    "sample_y = sample['quality']\n",
    "\n",
    "# Standardize the data\n",
    "scaler = StandardScaler()\n",
    "X_train = scaler.fit_transform(X_train)\n",
    "X_test = scaler.transform(X_test)\n",
    "\n",
    "sample_X_test = scaler.transform(sample_X)\n",
    "print(\"Before Over Sampling, count of the label '8': {}\".format(sum(y_train == 8)))  \n",
    "print(\"Before Over Sampling, count of the label '7': {}\".format(sum(y_train == 7)))  \n",
    "print(\"Before Over Sampling, count of the label '6': {}\".format(sum(y_train == 6)))  \n",
    "print(\"Before Over Sampling, count of the label '5': {}\".format(sum(y_train == 5)))  \n",
    "print(\"Before Over Sampling, count of the label '4': {}\".format(sum(y_train == 4)))  \n",
    "print(\"Before Over Sampling, count of the label '3': {} \\n\".format(sum(y_train == 3)))  \n",
    "from imblearn.over_sampling import SMOTE \n",
    "strategy = {3:20, 4:100, 5:551, 6:551, 7:200, 8:90}\n",
    "sm1 = SMOTE(sampling_strategy=strategy)  \n",
    "X_train_res, y_train_res = sm1.fit_resample(X_train, y_train.ravel())  \n",
    "print('After Over Sampling, the shape of the train_X: {}'.format(X_train_res.shape))  \n",
    "print('After Over Sampling, the shape of the train_y: {} \\n'.format(y_train_res.shape))\n",
    "print(\"After Over Sampling, count of the label '8': {}\".format(sum(y_train_res == 8))) \n",
    "print(\"After Over Sampling, count of the label '7': {}\".format(sum(y_train_res == 7))) \n",
    "print(\"After Over Sampling, count of the label '6': {}\".format(sum(y_train_res == 6))) \n",
    "print(\"After Over Sampling, count of the label '5': {}\".format(sum(y_train_res == 5))) \n",
    "print(\"After Over Sampling, count of the label '4': {}\".format(sum(y_train_res == 4)))  \n",
    "print(\"After Over Sampling, count of the label '3': {}\".format(sum(y_train_res == 3))) "
   ]
  },
  {
   "cell_type": "code",
   "execution_count": 11,
   "id": "26846bf3",
   "metadata": {},
   "outputs": [
    {
     "name": "stdout",
     "output_type": "stream",
     "text": [
      "Accuracy: 0.575\n",
      "Confusion Matrix:\n",
      " [[ 0  0  1  0  0  0]\n",
      " [ 0  1  7  2  0  0]\n",
      " [ 0  0 98 32  0  0]\n",
      " [ 0  0 46 76 10  0]\n",
      " [ 0  0  3 30  9  0]\n",
      " [ 0  0  0  1  4  0]]\n",
      "              precision    recall  f1-score   support\n",
      "\n",
      "           3       0.00      0.00      0.00         1\n",
      "           4       1.00      0.10      0.18        10\n",
      "           5       0.63      0.75      0.69       130\n",
      "           6       0.54      0.58      0.56       132\n",
      "           7       0.39      0.21      0.28        42\n",
      "           8       0.00      0.00      0.00         5\n",
      "\n",
      "    accuracy                           0.57       320\n",
      "   macro avg       0.43      0.27      0.28       320\n",
      "weighted avg       0.56      0.57      0.55       320\n",
      "\n"
     ]
    },
    {
     "name": "stderr",
     "output_type": "stream",
     "text": [
      "C:\\Users\\kyuta\\anaconda3\\lib\\site-packages\\sklearn\\metrics\\_classification.py:1344: UndefinedMetricWarning: Precision and F-score are ill-defined and being set to 0.0 in labels with no predicted samples. Use `zero_division` parameter to control this behavior.\n",
      "  _warn_prf(average, modifier, msg_start, len(result))\n",
      "C:\\Users\\kyuta\\anaconda3\\lib\\site-packages\\sklearn\\metrics\\_classification.py:1344: UndefinedMetricWarning: Precision and F-score are ill-defined and being set to 0.0 in labels with no predicted samples. Use `zero_division` parameter to control this behavior.\n",
      "  _warn_prf(average, modifier, msg_start, len(result))\n",
      "C:\\Users\\kyuta\\anaconda3\\lib\\site-packages\\sklearn\\metrics\\_classification.py:1344: UndefinedMetricWarning: Precision and F-score are ill-defined and being set to 0.0 in labels with no predicted samples. Use `zero_division` parameter to control this behavior.\n",
      "  _warn_prf(average, modifier, msg_start, len(result))\n"
     ]
    }
   ],
   "source": [
    "# Fit a multinomial logistic regression model\n",
    "model = LogisticRegression(multi_class='multinomial', solver='lbfgs')\n",
    "model.fit(X_train, y_train)\n",
    "\n",
    "# Make predictions on the test set\n",
    "y_pred = model.predict(X_test)\n",
    "\n",
    "# Evaluate the performance of the model\n",
    "accuracy1 = accuracy_score(y_test, y_pred)\n",
    "conf_matrix = confusion_matrix(y_test, y_pred)\n",
    "print('Accuracy:', accuracy1)\n",
    "print('Confusion Matrix:\\n', conf_matrix)\n",
    "print(classification_report(y_test, y_pred))"
   ]
  },
  {
   "cell_type": "code",
   "execution_count": 12,
   "id": "04ebb69e",
   "metadata": {},
   "outputs": [
    {
     "name": "stdout",
     "output_type": "stream",
     "text": [
      "Accuracy: 0.55625\n",
      "Confusion Matrix:\n",
      " [[ 0  0  1  0  0  0]\n",
      " [ 0  2  6  2  0  0]\n",
      " [ 0  1 93 34  1  1]\n",
      " [ 1  2 43 70 13  3]\n",
      " [ 0  0  3 25 11  3]\n",
      " [ 0  0  0  1  2  2]]\n",
      "              precision    recall  f1-score   support\n",
      "\n",
      "           3       0.00      0.00      0.00         1\n",
      "           4       0.40      0.20      0.27        10\n",
      "           5       0.64      0.72      0.67       130\n",
      "           6       0.53      0.53      0.53       132\n",
      "           7       0.41      0.26      0.32        42\n",
      "           8       0.22      0.40      0.29         5\n",
      "\n",
      "    accuracy                           0.56       320\n",
      "   macro avg       0.37      0.35      0.35       320\n",
      "weighted avg       0.55      0.56      0.55       320\n",
      "\n"
     ]
    },
    {
     "name": "stderr",
     "output_type": "stream",
     "text": [
      "C:\\Users\\kyuta\\anaconda3\\lib\\site-packages\\sklearn\\linear_model\\_logistic.py:458: ConvergenceWarning: lbfgs failed to converge (status=1):\n",
      "STOP: TOTAL NO. of ITERATIONS REACHED LIMIT.\n",
      "\n",
      "Increase the number of iterations (max_iter) or scale the data as shown in:\n",
      "    https://scikit-learn.org/stable/modules/preprocessing.html\n",
      "Please also refer to the documentation for alternative solver options:\n",
      "    https://scikit-learn.org/stable/modules/linear_model.html#logistic-regression\n",
      "  n_iter_i = _check_optimize_result(\n"
     ]
    }
   ],
   "source": [
    "# Fit a multinomial logistic regression model\n",
    "skl_model = LogisticRegression(multi_class='multinomial', solver='lbfgs')\n",
    "skl_model.fit(X_train_res, y_train_res)\n",
    "\n",
    "# Make predictions on the test set\n",
    "y_pred = skl_model.predict(X_test)\n",
    "\n",
    "# Evaluate the performance of the model\n",
    "accuracy1 = accuracy_score(y_test, y_pred)\n",
    "conf_matrix = confusion_matrix(y_test, y_pred)\n",
    "print('Accuracy:', accuracy1)\n",
    "print('Confusion Matrix:\\n', conf_matrix)\n",
    "print(classification_report(y_test, y_pred))"
   ]
  },
  {
   "cell_type": "code",
   "execution_count": 13,
   "id": "6b98ec60",
   "metadata": {},
   "outputs": [
    {
     "name": "stdout",
     "output_type": "stream",
     "text": [
      "Accuracy: 0.575\n",
      "Confusion Matrix:\n",
      " [[ 0  0  1  0  0  0]\n",
      " [ 0  1  7  2  0  0]\n",
      " [ 0  0 98 32  0  0]\n",
      " [ 0  0 46 76 10  0]\n",
      " [ 0  0  3 30  9  0]\n",
      " [ 0  0  0  1  4  0]]\n",
      "              precision    recall  f1-score   support\n",
      "\n",
      "           3       0.00      0.00      0.00         1\n",
      "           4       1.00      0.10      0.18        10\n",
      "           5       0.63      0.75      0.69       130\n",
      "           6       0.54      0.58      0.56       132\n",
      "           7       0.39      0.21      0.28        42\n",
      "           8       0.00      0.00      0.00         5\n",
      "\n",
      "    accuracy                           0.57       320\n",
      "   macro avg       0.43      0.27      0.28       320\n",
      "weighted avg       0.56      0.57      0.55       320\n",
      "\n"
     ]
    },
    {
     "name": "stderr",
     "output_type": "stream",
     "text": [
      "C:\\Users\\kyuta\\anaconda3\\lib\\site-packages\\sklearn\\metrics\\_classification.py:1344: UndefinedMetricWarning: Precision and F-score are ill-defined and being set to 0.0 in labels with no predicted samples. Use `zero_division` parameter to control this behavior.\n",
      "  _warn_prf(average, modifier, msg_start, len(result))\n",
      "C:\\Users\\kyuta\\anaconda3\\lib\\site-packages\\sklearn\\metrics\\_classification.py:1344: UndefinedMetricWarning: Precision and F-score are ill-defined and being set to 0.0 in labels with no predicted samples. Use `zero_division` parameter to control this behavior.\n",
      "  _warn_prf(average, modifier, msg_start, len(result))\n",
      "C:\\Users\\kyuta\\anaconda3\\lib\\site-packages\\sklearn\\metrics\\_classification.py:1344: UndefinedMetricWarning: Precision and F-score are ill-defined and being set to 0.0 in labels with no predicted samples. Use `zero_division` parameter to control this behavior.\n",
      "  _warn_prf(average, modifier, msg_start, len(result))\n"
     ]
    }
   ],
   "source": [
    "# Fit a multinomial logistic regression model\n",
    "model = LogisticRegression(multi_class='multinomial', solver='newton-cg')\n",
    "model.fit(X_train, y_train)\n",
    "\n",
    "# Make predictions on the test set\n",
    "y_pred = model.predict(X_test)\n",
    "\n",
    "# Evaluate the performance of the model\n",
    "accuracy = accuracy_score(y_test, y_pred)\n",
    "conf_matrix = confusion_matrix(y_test, y_pred)\n",
    "print('Accuracy:', accuracy)\n",
    "print('Confusion Matrix:\\n', conf_matrix)\n",
    "print(classification_report(y_test, y_pred))"
   ]
  },
  {
   "cell_type": "code",
   "execution_count": 14,
   "id": "5d55c99c",
   "metadata": {},
   "outputs": [
    {
     "name": "stdout",
     "output_type": "stream",
     "text": [
      "Accuracy: 0.55625\n",
      "Confusion Matrix:\n",
      " [[ 0  0  1  0  0  0]\n",
      " [ 0  2  6  2  0  0]\n",
      " [ 0  1 93 34  1  1]\n",
      " [ 1  2 43 70 13  3]\n",
      " [ 0  0  3 25 11  3]\n",
      " [ 0  0  0  1  2  2]]\n",
      "              precision    recall  f1-score   support\n",
      "\n",
      "           3       0.00      0.00      0.00         1\n",
      "           4       0.40      0.20      0.27        10\n",
      "           5       0.64      0.72      0.67       130\n",
      "           6       0.53      0.53      0.53       132\n",
      "           7       0.41      0.26      0.32        42\n",
      "           8       0.22      0.40      0.29         5\n",
      "\n",
      "    accuracy                           0.56       320\n",
      "   macro avg       0.37      0.35      0.35       320\n",
      "weighted avg       0.55      0.56      0.55       320\n",
      "\n"
     ]
    }
   ],
   "source": [
    "# Fit a multinomial logistic regression model\n",
    "model = LogisticRegression(multi_class='multinomial', solver='newton-cg')\n",
    "model.fit(X_train_res, y_train_res)\n",
    "\n",
    "# Make predictions on the test set\n",
    "y_pred = model.predict(X_test)\n",
    "\n",
    "# Evaluate the performance of the model\n",
    "accuracy = accuracy_score(y_test, y_pred)\n",
    "conf_matrix = confusion_matrix(y_test, y_pred)\n",
    "print('Accuracy:', accuracy)\n",
    "print('Confusion Matrix:\\n', conf_matrix)\n",
    "print(classification_report(y_test, y_pred))"
   ]
  },
  {
   "cell_type": "code",
   "execution_count": 15,
   "id": "cfe823b7",
   "metadata": {},
   "outputs": [
    {
     "name": "stdout",
     "output_type": "stream",
     "text": [
      "Accuracy: 0.575\n",
      "Confusion Matrix:\n",
      " [[ 0  0  1  0  0  0]\n",
      " [ 0  1  7  2  0  0]\n",
      " [ 0  0 98 32  0  0]\n",
      " [ 0  0 46 76 10  0]\n",
      " [ 0  0  3 30  9  0]\n",
      " [ 0  0  0  1  4  0]]\n",
      "              precision    recall  f1-score   support\n",
      "\n",
      "           3       0.00      0.00      0.00         1\n",
      "           4       1.00      0.10      0.18        10\n",
      "           5       0.63      0.75      0.69       130\n",
      "           6       0.54      0.58      0.56       132\n",
      "           7       0.39      0.21      0.28        42\n",
      "           8       0.00      0.00      0.00         5\n",
      "\n",
      "    accuracy                           0.57       320\n",
      "   macro avg       0.43      0.27      0.28       320\n",
      "weighted avg       0.56      0.57      0.55       320\n",
      "\n"
     ]
    },
    {
     "name": "stderr",
     "output_type": "stream",
     "text": [
      "C:\\Users\\kyuta\\anaconda3\\lib\\site-packages\\sklearn\\metrics\\_classification.py:1344: UndefinedMetricWarning: Precision and F-score are ill-defined and being set to 0.0 in labels with no predicted samples. Use `zero_division` parameter to control this behavior.\n",
      "  _warn_prf(average, modifier, msg_start, len(result))\n",
      "C:\\Users\\kyuta\\anaconda3\\lib\\site-packages\\sklearn\\metrics\\_classification.py:1344: UndefinedMetricWarning: Precision and F-score are ill-defined and being set to 0.0 in labels with no predicted samples. Use `zero_division` parameter to control this behavior.\n",
      "  _warn_prf(average, modifier, msg_start, len(result))\n",
      "C:\\Users\\kyuta\\anaconda3\\lib\\site-packages\\sklearn\\metrics\\_classification.py:1344: UndefinedMetricWarning: Precision and F-score are ill-defined and being set to 0.0 in labels with no predicted samples. Use `zero_division` parameter to control this behavior.\n",
      "  _warn_prf(average, modifier, msg_start, len(result))\n"
     ]
    }
   ],
   "source": [
    "# Fit an multinomial logistic regression model\n",
    "model = LogisticRegression(multi_class='multinomial', solver='sag', max_iter=5006)\n",
    "model.fit(X_train, y_train)\n",
    "\n",
    "# Make predictions on the test set\n",
    "y_pred = model.predict(X_test)\n",
    "\n",
    "# Evaluate the performance of the model\n",
    "accuracy = accuracy_score(y_test, y_pred)\n",
    "conf_matrix = confusion_matrix(y_test, y_pred)\n",
    "print('Accuracy:', accuracy)\n",
    "print('Confusion Matrix:\\n', conf_matrix)\n",
    "print(classification_report(y_test, y_pred))"
   ]
  },
  {
   "cell_type": "code",
   "execution_count": 16,
   "id": "c702668d",
   "metadata": {},
   "outputs": [
    {
     "name": "stdout",
     "output_type": "stream",
     "text": [
      "Accuracy: 0.55625\n",
      "Confusion Matrix:\n",
      " [[ 0  0  1  0  0  0]\n",
      " [ 0  2  6  2  0  0]\n",
      " [ 0  1 93 34  1  1]\n",
      " [ 1  2 43 70 13  3]\n",
      " [ 0  0  3 25 11  3]\n",
      " [ 0  0  0  1  2  2]]\n",
      "              precision    recall  f1-score   support\n",
      "\n",
      "           3       0.00      0.00      0.00         1\n",
      "           4       0.40      0.20      0.27        10\n",
      "           5       0.64      0.72      0.67       130\n",
      "           6       0.53      0.53      0.53       132\n",
      "           7       0.41      0.26      0.32        42\n",
      "           8       0.22      0.40      0.29         5\n",
      "\n",
      "    accuracy                           0.56       320\n",
      "   macro avg       0.37      0.35      0.35       320\n",
      "weighted avg       0.55      0.56      0.55       320\n",
      "\n"
     ]
    }
   ],
   "source": [
    "# Fit an multinomial logistic regression model\n",
    "model = LogisticRegression(multi_class='multinomial', solver='sag', max_iter=5006)\n",
    "model.fit(X_train_res, y_train_res)\n",
    "\n",
    "# Make predictions on the test set\n",
    "y_pred = model.predict(X_test)\n",
    "\n",
    "# Evaluate the performance of the model\n",
    "accuracy = accuracy_score(y_test, y_pred)\n",
    "conf_matrix = confusion_matrix(y_test, y_pred)\n",
    "print('Accuracy:', accuracy)\n",
    "print('Confusion Matrix:\\n', conf_matrix)\n",
    "print(classification_report(y_test, y_pred))"
   ]
  },
  {
   "cell_type": "code",
   "execution_count": 17,
   "id": "9a4269cb",
   "metadata": {},
   "outputs": [
    {
     "name": "stderr",
     "output_type": "stream",
     "text": [
      "C:\\Users\\kyuta\\anaconda3\\lib\\site-packages\\sklearn\\linear_model\\_sag.py:350: ConvergenceWarning: The max_iter was reached which means the coef_ did not converge\n",
      "  warnings.warn(\n"
     ]
    },
    {
     "name": "stdout",
     "output_type": "stream",
     "text": [
      "Accuracy: 0.575\n",
      "Confusion Matrix:\n",
      " [[ 0  0  1  0  0  0]\n",
      " [ 0  1  7  2  0  0]\n",
      " [ 0  0 98 32  0  0]\n",
      " [ 0  0 46 76 10  0]\n",
      " [ 0  0  3 30  9  0]\n",
      " [ 0  0  0  1  4  0]]\n",
      "              precision    recall  f1-score   support\n",
      "\n",
      "           3       0.00      0.00      0.00         1\n",
      "           4       1.00      0.10      0.18        10\n",
      "           5       0.63      0.75      0.69       130\n",
      "           6       0.54      0.58      0.56       132\n",
      "           7       0.39      0.21      0.28        42\n",
      "           8       0.00      0.00      0.00         5\n",
      "\n",
      "    accuracy                           0.57       320\n",
      "   macro avg       0.43      0.27      0.28       320\n",
      "weighted avg       0.56      0.57      0.55       320\n",
      "\n"
     ]
    },
    {
     "name": "stderr",
     "output_type": "stream",
     "text": [
      "C:\\Users\\kyuta\\anaconda3\\lib\\site-packages\\sklearn\\metrics\\_classification.py:1344: UndefinedMetricWarning: Precision and F-score are ill-defined and being set to 0.0 in labels with no predicted samples. Use `zero_division` parameter to control this behavior.\n",
      "  _warn_prf(average, modifier, msg_start, len(result))\n",
      "C:\\Users\\kyuta\\anaconda3\\lib\\site-packages\\sklearn\\metrics\\_classification.py:1344: UndefinedMetricWarning: Precision and F-score are ill-defined and being set to 0.0 in labels with no predicted samples. Use `zero_division` parameter to control this behavior.\n",
      "  _warn_prf(average, modifier, msg_start, len(result))\n",
      "C:\\Users\\kyuta\\anaconda3\\lib\\site-packages\\sklearn\\metrics\\_classification.py:1344: UndefinedMetricWarning: Precision and F-score are ill-defined and being set to 0.0 in labels with no predicted samples. Use `zero_division` parameter to control this behavior.\n",
      "  _warn_prf(average, modifier, msg_start, len(result))\n"
     ]
    }
   ],
   "source": [
    "# Fit a multinomial logistic regression model\n",
    "model = LogisticRegression(multi_class='multinomial', solver='saga')\n",
    "model.fit(X_train, y_train)\n",
    "\n",
    "# Make predictions on the test set\n",
    "y_pred = model.predict(X_test)\n",
    "\n",
    "# Evaluate the performance of the model\n",
    "accuracy = accuracy_score(y_test, y_pred)\n",
    "conf_matrix = confusion_matrix(y_test, y_pred)\n",
    "print('Accuracy:', accuracy)\n",
    "print('Confusion Matrix:\\n', conf_matrix)\n",
    "print(classification_report(y_test, y_pred))"
   ]
  },
  {
   "cell_type": "code",
   "execution_count": 18,
   "id": "83b79324",
   "metadata": {},
   "outputs": [
    {
     "name": "stdout",
     "output_type": "stream",
     "text": [
      "Accuracy: 0.55625\n",
      "Confusion Matrix:\n",
      " [[ 0  0  1  0  0  0]\n",
      " [ 0  2  6  2  0  0]\n",
      " [ 0  1 93 34  1  1]\n",
      " [ 1  2 43 70 13  3]\n",
      " [ 0  0  3 25 11  3]\n",
      " [ 0  0  0  1  2  2]]\n",
      "              precision    recall  f1-score   support\n",
      "\n",
      "           3       0.00      0.00      0.00         1\n",
      "           4       0.40      0.20      0.27        10\n",
      "           5       0.64      0.72      0.67       130\n",
      "           6       0.53      0.53      0.53       132\n",
      "           7       0.41      0.26      0.32        42\n",
      "           8       0.22      0.40      0.29         5\n",
      "\n",
      "    accuracy                           0.56       320\n",
      "   macro avg       0.37      0.35      0.35       320\n",
      "weighted avg       0.55      0.56      0.55       320\n",
      "\n"
     ]
    },
    {
     "name": "stderr",
     "output_type": "stream",
     "text": [
      "C:\\Users\\kyuta\\anaconda3\\lib\\site-packages\\sklearn\\linear_model\\_sag.py:350: ConvergenceWarning: The max_iter was reached which means the coef_ did not converge\n",
      "  warnings.warn(\n"
     ]
    }
   ],
   "source": [
    "# Fit a multinomial logistic regression model\n",
    "model = LogisticRegression(multi_class='multinomial', solver='saga')\n",
    "model.fit(X_train_res, y_train_res)\n",
    "\n",
    "# Make predictions on the test set\n",
    "y_pred = model.predict(X_test)\n",
    "\n",
    "# Evaluate the performance of the model\n",
    "accuracy = accuracy_score(y_test, y_pred)\n",
    "conf_matrix = confusion_matrix(y_test, y_pred)\n",
    "print('Accuracy:', accuracy)\n",
    "print('Confusion Matrix:\\n', conf_matrix)\n",
    "print(classification_report(y_test, y_pred))"
   ]
  },
  {
   "cell_type": "code",
   "execution_count": 19,
   "id": "440c2789",
   "metadata": {},
   "outputs": [
    {
     "name": "stdout",
     "output_type": "stream",
     "text": [
      "Accuracy: 0.575\n",
      "Confusion Matrix:\n",
      " [[ 0  0  1  0  0  0]\n",
      " [ 0  1  7  2  0  0]\n",
      " [ 0  0 98 32  0  0]\n",
      " [ 0  0 46 76 10  0]\n",
      " [ 0  0  3 30  9  0]\n",
      " [ 0  0  0  1  4  0]]\n",
      "              precision    recall  f1-score   support\n",
      "\n",
      "           3       0.00      0.00      0.00         1\n",
      "           4       1.00      0.10      0.18        10\n",
      "           5       0.63      0.75      0.69       130\n",
      "           6       0.54      0.58      0.56       132\n",
      "           7       0.39      0.21      0.28        42\n",
      "           8       0.00      0.00      0.00         5\n",
      "\n",
      "    accuracy                           0.57       320\n",
      "   macro avg       0.43      0.27      0.28       320\n",
      "weighted avg       0.56      0.57      0.55       320\n",
      "\n"
     ]
    },
    {
     "name": "stderr",
     "output_type": "stream",
     "text": [
      "C:\\Users\\kyuta\\anaconda3\\lib\\site-packages\\sklearn\\metrics\\_classification.py:1344: UndefinedMetricWarning: Precision and F-score are ill-defined and being set to 0.0 in labels with no predicted samples. Use `zero_division` parameter to control this behavior.\n",
      "  _warn_prf(average, modifier, msg_start, len(result))\n",
      "C:\\Users\\kyuta\\anaconda3\\lib\\site-packages\\sklearn\\metrics\\_classification.py:1344: UndefinedMetricWarning: Precision and F-score are ill-defined and being set to 0.0 in labels with no predicted samples. Use `zero_division` parameter to control this behavior.\n",
      "  _warn_prf(average, modifier, msg_start, len(result))\n",
      "C:\\Users\\kyuta\\anaconda3\\lib\\site-packages\\sklearn\\metrics\\_classification.py:1344: UndefinedMetricWarning: Precision and F-score are ill-defined and being set to 0.0 in labels with no predicted samples. Use `zero_division` parameter to control this behavior.\n",
      "  _warn_prf(average, modifier, msg_start, len(result))\n"
     ]
    }
   ],
   "source": [
    "# Fit a multinomial logistic regression model\n",
    "model = LogisticRegression(multi_class='multinomial', solver='saga', penalty='elasticnet', max_iter = 5006, l1_ratio = 0.2)\n",
    "model.fit(X_train, y_train)\n",
    "\n",
    "# Make predictions on the test set\n",
    "y_pred = model.predict(X_test)\n",
    "\n",
    "# Evaluate the performance of the model\n",
    "accuracy = accuracy_score(y_test, y_pred)\n",
    "conf_matrix = confusion_matrix(y_test, y_pred)\n",
    "print('Accuracy:', accuracy)\n",
    "print('Confusion Matrix:\\n', conf_matrix)\n",
    "print(classification_report(y_test, y_pred))"
   ]
  },
  {
   "cell_type": "code",
   "execution_count": 20,
   "id": "5c57e5ca",
   "metadata": {},
   "outputs": [
    {
     "name": "stdout",
     "output_type": "stream",
     "text": [
      "Accuracy: 0.55625\n",
      "Confusion Matrix:\n",
      " [[ 0  0  1  0  0  0]\n",
      " [ 0  2  6  2  0  0]\n",
      " [ 0  1 93 34  1  1]\n",
      " [ 1  2 43 70 13  3]\n",
      " [ 0  0  3 25 11  3]\n",
      " [ 0  0  0  1  2  2]]\n",
      "              precision    recall  f1-score   support\n",
      "\n",
      "           3       0.00      0.00      0.00         1\n",
      "           4       0.40      0.20      0.27        10\n",
      "           5       0.64      0.72      0.67       130\n",
      "           6       0.53      0.53      0.53       132\n",
      "           7       0.41      0.26      0.32        42\n",
      "           8       0.22      0.40      0.29         5\n",
      "\n",
      "    accuracy                           0.56       320\n",
      "   macro avg       0.37      0.35      0.35       320\n",
      "weighted avg       0.55      0.56      0.55       320\n",
      "\n"
     ]
    }
   ],
   "source": [
    "# Fit a multinomial logistic regression model\n",
    "model = LogisticRegression(multi_class='multinomial', solver='saga', penalty='elasticnet', max_iter = 5006, l1_ratio = 0.2)\n",
    "model.fit(X_train_res, y_train_res)\n",
    "\n",
    "# Make predictions on the test set\n",
    "y_pred = model.predict(X_test)\n",
    "\n",
    "# Evaluate the performance of the model\n",
    "accuracy = accuracy_score(y_test, y_pred)\n",
    "conf_matrix = confusion_matrix(y_test, y_pred)\n",
    "print('Accuracy:', accuracy)\n",
    "print('Confusion Matrix:\\n', conf_matrix)\n",
    "print(classification_report(y_test, y_pred))"
   ]
  },
  {
   "cell_type": "code",
   "execution_count": 21,
   "id": "1ff03ec2",
   "metadata": {},
   "outputs": [
    {
     "name": "stdout",
     "output_type": "stream",
     "text": [
      "Accuracy: 0.575\n",
      "Confusion Matrix:\n",
      " [[ 0  0  1  0  0  0]\n",
      " [ 0  0  8  2  0  0]\n",
      " [ 0  0 98 32  0  0]\n",
      " [ 0  0 46 77  9  0]\n",
      " [ 0  0  3 30  9  0]\n",
      " [ 0  0  0  1  4  0]]\n",
      "              precision    recall  f1-score   support\n",
      "\n",
      "           3       0.00      0.00      0.00         1\n",
      "           4       0.00      0.00      0.00        10\n",
      "           5       0.63      0.75      0.69       130\n",
      "           6       0.54      0.58      0.56       132\n",
      "           7       0.41      0.21      0.28        42\n",
      "           8       0.00      0.00      0.00         5\n",
      "\n",
      "    accuracy                           0.57       320\n",
      "   macro avg       0.26      0.26      0.25       320\n",
      "weighted avg       0.53      0.57      0.55       320\n",
      "\n"
     ]
    },
    {
     "name": "stderr",
     "output_type": "stream",
     "text": [
      "C:\\Users\\kyuta\\anaconda3\\lib\\site-packages\\sklearn\\metrics\\_classification.py:1344: UndefinedMetricWarning: Precision and F-score are ill-defined and being set to 0.0 in labels with no predicted samples. Use `zero_division` parameter to control this behavior.\n",
      "  _warn_prf(average, modifier, msg_start, len(result))\n",
      "C:\\Users\\kyuta\\anaconda3\\lib\\site-packages\\sklearn\\metrics\\_classification.py:1344: UndefinedMetricWarning: Precision and F-score are ill-defined and being set to 0.0 in labels with no predicted samples. Use `zero_division` parameter to control this behavior.\n",
      "  _warn_prf(average, modifier, msg_start, len(result))\n",
      "C:\\Users\\kyuta\\anaconda3\\lib\\site-packages\\sklearn\\metrics\\_classification.py:1344: UndefinedMetricWarning: Precision and F-score are ill-defined and being set to 0.0 in labels with no predicted samples. Use `zero_division` parameter to control this behavior.\n",
      "  _warn_prf(average, modifier, msg_start, len(result))\n"
     ]
    }
   ],
   "source": [
    "# Fit a multinomial logistic regression model\n",
    "model = LogisticRegression(multi_class='multinomial', solver='saga', penalty='l1', max_iter = 5006)\n",
    "model.fit(X_train, y_train)\n",
    "\n",
    "# Make predictions on the test set\n",
    "y_pred = model.predict(X_test)\n",
    "\n",
    "# Evaluate the performance of the model\n",
    "accuracy = accuracy_score(y_test, y_pred)\n",
    "conf_matrix = confusion_matrix(y_test, y_pred)\n",
    "print('Accuracy:', accuracy)\n",
    "print('Confusion Matrix:\\n', conf_matrix)\n",
    "print(classification_report(y_test, y_pred))"
   ]
  },
  {
   "cell_type": "code",
   "execution_count": 22,
   "id": "f9778abb",
   "metadata": {},
   "outputs": [
    {
     "name": "stdout",
     "output_type": "stream",
     "text": [
      "Accuracy: 0.5625\n",
      "Confusion Matrix:\n",
      " [[ 0  0  1  0  0  0]\n",
      " [ 0  2  6  2  0  0]\n",
      " [ 0  0 95 33  1  1]\n",
      " [ 1  2 43 70 13  3]\n",
      " [ 0  0  3 25 11  3]\n",
      " [ 0  0  0  1  2  2]]\n",
      "              precision    recall  f1-score   support\n",
      "\n",
      "           3       0.00      0.00      0.00         1\n",
      "           4       0.50      0.20      0.29        10\n",
      "           5       0.64      0.73      0.68       130\n",
      "           6       0.53      0.53      0.53       132\n",
      "           7       0.41      0.26      0.32        42\n",
      "           8       0.22      0.40      0.29         5\n",
      "\n",
      "    accuracy                           0.56       320\n",
      "   macro avg       0.38      0.35      0.35       320\n",
      "weighted avg       0.55      0.56      0.55       320\n",
      "\n"
     ]
    }
   ],
   "source": [
    "# Fit a multinomial logistic regression model\n",
    "model = LogisticRegression(multi_class='multinomial', solver='saga', penalty='l1', max_iter = 5006)\n",
    "model.fit(X_train_res, y_train_res)\n",
    "\n",
    "# Make predictions on the test set\n",
    "y_pred = model.predict(X_test)\n",
    "\n",
    "# Evaluate the performance of the model\n",
    "accuracy = accuracy_score(y_test, y_pred)\n",
    "conf_matrix = confusion_matrix(y_test, y_pred)\n",
    "print('Accuracy:', accuracy)\n",
    "print('Confusion Matrix:\\n', conf_matrix)\n",
    "print(classification_report(y_test, y_pred))"
   ]
  },
  {
   "cell_type": "code",
   "execution_count": 23,
   "id": "424c6080",
   "metadata": {},
   "outputs": [
    {
     "name": "stdout",
     "output_type": "stream",
     "text": [
      "Fraction of correct choice predictions\n",
      "0.5928705440900562\n"
     ]
    },
    {
     "name": "stderr",
     "output_type": "stream",
     "text": [
      "C:\\Users\\kyuta\\anaconda3\\lib\\site-packages\\statsmodels\\miscmodels\\ordinal_model.py:419: FutureWarning: Support for multi-dimensional indexing (e.g. `obj[:, None]`) is deprecated and will be removed in a future version.  Convert to a numpy array before indexing instead.\n",
      "  xb = xb[:, None]\n"
     ]
    }
   ],
   "source": [
    "# load the data\n",
    "data = pd.read_csv('winequality-red.csv')\n",
    "\n",
    "# convert the quality column to an ordered categorical type\n",
    "data['quality'] = pd.Categorical(data['quality'], categories=[3, 4, 5, 6, 7, 8], ordered=True)\n",
    "\n",
    "# fit an ordinal logistic regression model using statsmodels\n",
    "mod_log = OrderedModel(data['quality'],\n",
    "                        data[['fixed acidity', 'volatile acidity', 'citric acid', 'residual sugar', 'chlorides', 'free sulfur dioxide', 'total sulfur dioxide', 'density', 'pH', 'sulphates', 'alcohol']],\n",
    "                        distr='logit')\n",
    "res_log = mod_log.fit(method='bfgs', disp=False)\n",
    "\n",
    "# make predictions on the test set\n",
    "predicted = res_log.model.predict(res_log.params, exog= data[['fixed acidity', 'volatile acidity', 'citric acid', 'residual sugar', 'chlorides', 'free sulfur dioxide', 'total sulfur dioxide', 'density', 'pH', 'sulphates', 'alcohol']])\n",
    "predicted\n",
    "\n",
    "# convert the predicted values to integer values of the quality score\n",
    "pred_choice = predicted.argmax(1)\n",
    "print('Fraction of correct choice predictions')\n",
    "print((np.asarray(data['quality'].values.codes) == pred_choice).mean())"
   ]
  },
  {
   "cell_type": "code",
   "execution_count": 24,
   "id": "c453ab74",
   "metadata": {},
   "outputs": [
    {
     "data": {
      "text/html": [
       "<table class=\"simpletable\">\n",
       "<caption>OrderedModel Results</caption>\n",
       "<tr>\n",
       "  <th>Dep. Variable:</th>          <td>quality</td>      <th>  Log-Likelihood:    </th> <td> -1538.0</td>\n",
       "</tr>\n",
       "<tr>\n",
       "  <th>Model:</th>               <td>OrderedModel</td>    <th>  AIC:               </th> <td>   3108.</td>\n",
       "</tr>\n",
       "<tr>\n",
       "  <th>Method:</th>           <td>Maximum Likelihood</td> <th>  BIC:               </th> <td>   3194.</td>\n",
       "</tr>\n",
       "<tr>\n",
       "  <th>Date:</th>              <td>Sun, 30 Apr 2023</td>  <th>                     </th>     <td> </td>   \n",
       "</tr>\n",
       "<tr>\n",
       "  <th>Time:</th>                  <td>19:14:49</td>      <th>                     </th>     <td> </td>   \n",
       "</tr>\n",
       "<tr>\n",
       "  <th>No. Observations:</th>       <td>  1599</td>       <th>                     </th>     <td> </td>   \n",
       "</tr>\n",
       "<tr>\n",
       "  <th>Df Residuals:</th>           <td>  1583</td>       <th>                     </th>     <td> </td>   \n",
       "</tr>\n",
       "<tr>\n",
       "  <th>Df Model:</th>               <td>    16</td>       <th>                     </th>     <td> </td>   \n",
       "</tr>\n",
       "</table>\n",
       "<table class=\"simpletable\">\n",
       "<tr>\n",
       "            <td></td>              <th>coef</th>     <th>std err</th>      <th>z</th>      <th>P>|z|</th>  <th>[0.025</th>    <th>0.975]</th>  \n",
       "</tr>\n",
       "<tr>\n",
       "  <th>fixed acidity</th>        <td>    0.0581</td> <td>    0.082</td> <td>    0.708</td> <td> 0.479</td> <td>   -0.103</td> <td>    0.219</td>\n",
       "</tr>\n",
       "<tr>\n",
       "  <th>volatile acidity</th>     <td>   -3.4490</td> <td>    0.403</td> <td>   -8.552</td> <td> 0.000</td> <td>   -4.239</td> <td>   -2.659</td>\n",
       "</tr>\n",
       "<tr>\n",
       "  <th>citric acid</th>          <td>   -0.8034</td> <td>    0.463</td> <td>   -1.736</td> <td> 0.083</td> <td>   -1.710</td> <td>    0.104</td>\n",
       "</tr>\n",
       "<tr>\n",
       "  <th>residual sugar</th>       <td>    0.0562</td> <td>    0.048</td> <td>    1.175</td> <td> 0.240</td> <td>   -0.038</td> <td>    0.150</td>\n",
       "</tr>\n",
       "<tr>\n",
       "  <th>chlorides</th>            <td>   -5.2726</td> <td>    1.360</td> <td>   -3.876</td> <td> 0.000</td> <td>   -7.939</td> <td>   -2.607</td>\n",
       "</tr>\n",
       "<tr>\n",
       "  <th>free sulfur dioxide</th>  <td>    0.0146</td> <td>    0.007</td> <td>    2.136</td> <td> 0.033</td> <td>    0.001</td> <td>    0.028</td>\n",
       "</tr>\n",
       "<tr>\n",
       "  <th>total sulfur dioxide</th> <td>   -0.0114</td> <td>    0.002</td> <td>   -4.793</td> <td> 0.000</td> <td>   -0.016</td> <td>   -0.007</td>\n",
       "</tr>\n",
       "<tr>\n",
       "  <th>density</th>              <td>   -2.0939</td> <td>   67.931</td> <td>   -0.031</td> <td> 0.975</td> <td> -135.237</td> <td>  131.049</td>\n",
       "</tr>\n",
       "<tr>\n",
       "  <th>pH</th>                   <td>   -1.2169</td> <td>    0.600</td> <td>   -2.028</td> <td> 0.043</td> <td>   -2.393</td> <td>   -0.041</td>\n",
       "</tr>\n",
       "<tr>\n",
       "  <th>sulphates</th>            <td>    2.8127</td> <td>    0.367</td> <td>    7.662</td> <td> 0.000</td> <td>    2.093</td> <td>    3.532</td>\n",
       "</tr>\n",
       "<tr>\n",
       "  <th>alcohol</th>              <td>    0.8976</td> <td>    0.085</td> <td>   10.524</td> <td> 0.000</td> <td>    0.730</td> <td>    1.065</td>\n",
       "</tr>\n",
       "<tr>\n",
       "  <th>3/4</th>                  <td>   -3.0201</td> <td>   66.534</td> <td>   -0.045</td> <td> 0.964</td> <td> -133.425</td> <td>  127.385</td>\n",
       "</tr>\n",
       "<tr>\n",
       "  <th>4/5</th>                  <td>    0.6525</td> <td>    0.154</td> <td>    4.250</td> <td> 0.000</td> <td>    0.352</td> <td>    0.953</td>\n",
       "</tr>\n",
       "<tr>\n",
       "  <th>5/6</th>                  <td>    1.3141</td> <td>    0.039</td> <td>   33.499</td> <td> 0.000</td> <td>    1.237</td> <td>    1.391</td>\n",
       "</tr>\n",
       "<tr>\n",
       "  <th>6/7</th>                  <td>    1.0476</td> <td>    0.038</td> <td>   27.768</td> <td> 0.000</td> <td>    0.974</td> <td>    1.122</td>\n",
       "</tr>\n",
       "<tr>\n",
       "  <th>7/8</th>                  <td>    1.1002</td> <td>    0.080</td> <td>   13.814</td> <td> 0.000</td> <td>    0.944</td> <td>    1.256</td>\n",
       "</tr>\n",
       "</table>"
      ],
      "text/plain": [
       "<class 'statsmodels.iolib.summary.Summary'>\n",
       "\"\"\"\n",
       "                             OrderedModel Results                             \n",
       "==============================================================================\n",
       "Dep. Variable:                quality   Log-Likelihood:                -1538.0\n",
       "Model:                   OrderedModel   AIC:                             3108.\n",
       "Method:            Maximum Likelihood   BIC:                             3194.\n",
       "Date:                Sun, 30 Apr 2023                                         \n",
       "Time:                        19:14:49                                         \n",
       "No. Observations:                1599                                         \n",
       "Df Residuals:                    1583                                         \n",
       "Df Model:                          16                                         \n",
       "========================================================================================\n",
       "                           coef    std err          z      P>|z|      [0.025      0.975]\n",
       "----------------------------------------------------------------------------------------\n",
       "fixed acidity            0.0581      0.082      0.708      0.479      -0.103       0.219\n",
       "volatile acidity        -3.4490      0.403     -8.552      0.000      -4.239      -2.659\n",
       "citric acid             -0.8034      0.463     -1.736      0.083      -1.710       0.104\n",
       "residual sugar           0.0562      0.048      1.175      0.240      -0.038       0.150\n",
       "chlorides               -5.2726      1.360     -3.876      0.000      -7.939      -2.607\n",
       "free sulfur dioxide      0.0146      0.007      2.136      0.033       0.001       0.028\n",
       "total sulfur dioxide    -0.0114      0.002     -4.793      0.000      -0.016      -0.007\n",
       "density                 -2.0939     67.931     -0.031      0.975    -135.237     131.049\n",
       "pH                      -1.2169      0.600     -2.028      0.043      -2.393      -0.041\n",
       "sulphates                2.8127      0.367      7.662      0.000       2.093       3.532\n",
       "alcohol                  0.8976      0.085     10.524      0.000       0.730       1.065\n",
       "3/4                     -3.0201     66.534     -0.045      0.964    -133.425     127.385\n",
       "4/5                      0.6525      0.154      4.250      0.000       0.352       0.953\n",
       "5/6                      1.3141      0.039     33.499      0.000       1.237       1.391\n",
       "6/7                      1.0476      0.038     27.768      0.000       0.974       1.122\n",
       "7/8                      1.1002      0.080     13.814      0.000       0.944       1.256\n",
       "========================================================================================\n",
       "\"\"\""
      ]
     },
     "execution_count": 24,
     "metadata": {},
     "output_type": "execute_result"
    }
   ],
   "source": [
    "res_log.summary()"
   ]
  },
  {
   "cell_type": "code",
   "execution_count": 25,
   "id": "32c35864",
   "metadata": {},
   "outputs": [
    {
     "name": "stdout",
     "output_type": "stream",
     "text": [
      "Fraction of correct choice predictions\n",
      "0.5859912445278299\n"
     ]
    },
    {
     "name": "stderr",
     "output_type": "stream",
     "text": [
      "C:\\Users\\kyuta\\anaconda3\\lib\\site-packages\\statsmodels\\miscmodels\\ordinal_model.py:419: FutureWarning: Support for multi-dimensional indexing (e.g. `obj[:, None]`) is deprecated and will be removed in a future version.  Convert to a numpy array before indexing instead.\n",
      "  xb = xb[:, None]\n"
     ]
    }
   ],
   "source": [
    "# fit an ordinal logistic regression model using statsmodels\n",
    "mod_log = OrderedModel(data['quality'],\n",
    "                        data[['fixed acidity', 'volatile acidity', 'citric acid', 'residual sugar', 'chlorides', 'free sulfur dioxide', 'total sulfur dioxide', 'density', 'pH', 'sulphates', 'alcohol']],\n",
    "                        distr='probit')\n",
    "res_log = mod_log.fit(method='bfgs', disp=False)\n",
    "\n",
    "# make predictions on the test set\n",
    "predicted = res_log.model.predict(res_log.params, exog= data[['fixed acidity', 'volatile acidity', 'citric acid', 'residual sugar', 'chlorides', 'free sulfur dioxide', 'total sulfur dioxide', 'density', 'pH', 'sulphates', 'alcohol']])\n",
    "predicted\n",
    "\n",
    "# convert the predicted values to integer values of the quality score\n",
    "pred_choice = predicted.argmax(1)\n",
    "print('Fraction of correct choice predictions')\n",
    "print((np.asarray(data['quality'].values.codes) == pred_choice).mean())"
   ]
  },
  {
   "cell_type": "code",
   "execution_count": 26,
   "id": "412131a9",
   "metadata": {},
   "outputs": [
    {
     "name": "stdout",
     "output_type": "stream",
     "text": [
      "Fraction of correct choice predictions\n",
      "0.49468417761100686\n"
     ]
    },
    {
     "name": "stderr",
     "output_type": "stream",
     "text": [
      "C:\\Users\\kyuta\\anaconda3\\lib\\site-packages\\statsmodels\\base\\model.py:604: ConvergenceWarning: Maximum Likelihood optimization failed to converge. Check mle_retvals\n",
      "  warnings.warn(\"Maximum Likelihood optimization failed to \"\n",
      "C:\\Users\\kyuta\\anaconda3\\lib\\site-packages\\statsmodels\\miscmodels\\ordinal_model.py:419: FutureWarning: Support for multi-dimensional indexing (e.g. `obj[:, None]`) is deprecated and will be removed in a future version.  Convert to a numpy array before indexing instead.\n",
      "  xb = xb[:, None]\n"
     ]
    }
   ],
   "source": [
    "# fit an ordinal logistic regression model using statsmodels\n",
    "mod_log = OrderedModel(data['quality'],\n",
    "                        data[['fixed acidity', 'volatile acidity', 'citric acid', 'residual sugar', 'chlorides', 'free sulfur dioxide', 'total sulfur dioxide', 'density', 'pH', 'sulphates', 'alcohol']],\n",
    "                        distr='logit')\n",
    "res_log = mod_log.fit(method='nm', disp=False)\n",
    "\n",
    "# make predictions on the test set\n",
    "predicted = res_log.model.predict(res_log.params, exog= data[['fixed acidity', 'volatile acidity', 'citric acid', 'residual sugar', 'chlorides', 'free sulfur dioxide', 'total sulfur dioxide', 'density', 'pH', 'sulphates', 'alcohol']])\n",
    "predicted\n",
    "\n",
    "# convert the predicted values to integer values of the quality score\n",
    "pred_choice = predicted.argmax(1)\n",
    "print('Fraction of correct choice predictions')\n",
    "print((np.asarray(data['quality'].values.codes) == pred_choice).mean())"
   ]
  },
  {
   "cell_type": "code",
   "execution_count": 27,
   "id": "111132e6",
   "metadata": {},
   "outputs": [
    {
     "name": "stdout",
     "output_type": "stream",
     "text": [
      "Fraction of correct choice predictions\n",
      "0.5941213258286429\n"
     ]
    },
    {
     "name": "stderr",
     "output_type": "stream",
     "text": [
      "C:\\Users\\kyuta\\anaconda3\\lib\\site-packages\\statsmodels\\base\\model.py:604: ConvergenceWarning: Maximum Likelihood optimization failed to converge. Check mle_retvals\n",
      "  warnings.warn(\"Maximum Likelihood optimization failed to \"\n",
      "C:\\Users\\kyuta\\anaconda3\\lib\\site-packages\\statsmodels\\miscmodels\\ordinal_model.py:419: FutureWarning: Support for multi-dimensional indexing (e.g. `obj[:, None]`) is deprecated and will be removed in a future version.  Convert to a numpy array before indexing instead.\n",
      "  xb = xb[:, None]\n"
     ]
    }
   ],
   "source": [
    "# fit an ordinal logistic regression model using statsmodels\n",
    "mod_log = OrderedModel(data['quality'],\n",
    "                        data[['fixed acidity', 'volatile acidity', 'citric acid', 'residual sugar', 'chlorides', 'free sulfur dioxide', 'total sulfur dioxide', 'density', 'pH', 'sulphates', 'alcohol']],\n",
    "                        distr='logit')\n",
    "res_log = mod_log.fit(method='lbfgs', disp=False)\n",
    "\n",
    "# make predictions on the test set\n",
    "predicted = res_log.model.predict(res_log.params, exog= data[['fixed acidity', 'volatile acidity', 'citric acid', 'residual sugar', 'chlorides', 'free sulfur dioxide', 'total sulfur dioxide', 'density', 'pH', 'sulphates', 'alcohol']])\n",
    "predicted\n",
    "\n",
    "# convert the predicted values to integer values of the quality score\n",
    "pred_choice = predicted.argmax(1)\n",
    "print('Fraction of correct choice predictions')\n",
    "print((np.asarray(data['quality'].values.codes) == pred_choice).mean())"
   ]
  },
  {
   "cell_type": "code",
   "execution_count": 28,
   "id": "281d8675",
   "metadata": {},
   "outputs": [
    {
     "name": "stdout",
     "output_type": "stream",
     "text": [
      "Fraction of correct choice predictions\n",
      "0.5972482801751094\n"
     ]
    },
    {
     "name": "stderr",
     "output_type": "stream",
     "text": [
      "C:\\Users\\kyuta\\anaconda3\\lib\\site-packages\\statsmodels\\miscmodels\\ordinal_model.py:419: FutureWarning: Support for multi-dimensional indexing (e.g. `obj[:, None]`) is deprecated and will be removed in a future version.  Convert to a numpy array before indexing instead.\n",
      "  xb = xb[:, None]\n"
     ]
    }
   ],
   "source": [
    "# fit an ordinal logistic regression model using statsmodels\n",
    "mod_log = OrderedModel(data['quality'],\n",
    "                        data[['fixed acidity', 'volatile acidity', 'citric acid', 'residual sugar', 'chlorides', 'free sulfur dioxide', 'total sulfur dioxide', 'pH', 'sulphates', 'alcohol']],\n",
    "                        distr='logit')\n",
    "chosen_res_log = mod_log.fit(method='powell', disp=False)\n",
    "chosen_res_log.summary()\n",
    "# make predictions on the test set\n",
    "predicted = chosen_res_log.model.predict(chosen_res_log.params, exog= data[['fixed acidity', 'volatile acidity', 'citric acid', 'residual sugar', 'chlorides', 'free sulfur dioxide', 'total sulfur dioxide', 'pH', 'sulphates', 'alcohol']])\n",
    "predicted\n",
    "\n",
    "# convert the predicted values to integer values of the quality score\n",
    "pred_choice = predicted.argmax(1)\n",
    "print('Fraction of correct choice predictions')\n",
    "print((np.asarray(data['quality'].values.codes) == pred_choice).mean())"
   ]
  },
  {
   "cell_type": "code",
   "execution_count": 29,
   "id": "80997bf4",
   "metadata": {},
   "outputs": [
    {
     "name": "stdout",
     "output_type": "stream",
     "text": [
      "Fraction of correct choice predictions\n",
      "0.5972482801751094\n"
     ]
    },
    {
     "name": "stderr",
     "output_type": "stream",
     "text": [
      "C:\\Users\\kyuta\\anaconda3\\lib\\site-packages\\statsmodels\\miscmodels\\ordinal_model.py:419: FutureWarning: Support for multi-dimensional indexing (e.g. `obj[:, None]`) is deprecated and will be removed in a future version.  Convert to a numpy array before indexing instead.\n",
      "  xb = xb[:, None]\n"
     ]
    }
   ],
   "source": [
    "# fit an ordinal logistic regression model using statsmodels\n",
    "mod_log = OrderedModel(data['quality'],\n",
    "                        data[['fixed acidity', 'volatile acidity', 'citric acid', 'residual sugar', 'chlorides', 'free sulfur dioxide', 'total sulfur dioxide', 'pH', 'sulphates', 'alcohol']],\n",
    "                        distr='logit')\n",
    "chosen_res_log = mod_log.fit(method='powell', disp=False)\n",
    "chosen_res_log.summary()\n",
    "# make predictions on the test set\n",
    "predicted = chosen_res_log.model.predict(chosen_res_log.params, exog= data[['fixed acidity', 'volatile acidity', 'citric acid', 'residual sugar', 'chlorides', 'free sulfur dioxide', 'total sulfur dioxide', 'pH', 'sulphates', 'alcohol']])\n",
    "predicted\n",
    "\n",
    "# convert the predicted values to integer values of the quality score\n",
    "pred_choice = predicted.argmax(1)\n",
    "print('Fraction of correct choice predictions')\n",
    "print((np.asarray(data['quality'].values.codes) == pred_choice).mean())"
   ]
  },
  {
   "cell_type": "code",
   "execution_count": 30,
   "id": "2fb31c8e",
   "metadata": {},
   "outputs": [
    {
     "name": "stdout",
     "output_type": "stream",
     "text": [
      "Accuracy: 1.0\n",
      "Confusion Matrix:\n",
      " [[3 0]\n",
      " [0 2]]\n",
      "              precision    recall  f1-score   support\n",
      "\n",
      "           5       1.00      1.00      1.00         3\n",
      "           6       1.00      1.00      1.00         2\n",
      "\n",
      "    accuracy                           1.00         5\n",
      "   macro avg       1.00      1.00      1.00         5\n",
      "weighted avg       1.00      1.00      1.00         5\n",
      "\n"
     ]
    }
   ],
   "source": [
    "# Fit an ordinal logistic regression model\n",
    "skl_model = LogisticRegression(multi_class='multinomial', solver='lbfgs', max_iter = 5006)\n",
    "skl_model.fit(sample_X, sample_y)\n",
    "\n",
    "# Make predictions on the test set\n",
    "sample_y_pred = skl_model.predict(sample_X)\n",
    "\n",
    "# Evaluate the performance of the model\n",
    "accuracy = accuracy_score(sample_y, sample_y_pred)\n",
    "conf_matrix = confusion_matrix(sample_y, sample_y_pred)\n",
    "print('Accuracy:', accuracy)\n",
    "print('Confusion Matrix:\\n', conf_matrix)\n",
    "print(classification_report(sample_y, sample_y_pred))"
   ]
  },
  {
   "cell_type": "code",
   "execution_count": 31,
   "id": "0e24db6f",
   "metadata": {},
   "outputs": [
    {
     "name": "stdout",
     "output_type": "stream",
     "text": [
      "Fraction of correct choice predictions\n",
      "0.0\n"
     ]
    },
    {
     "name": "stderr",
     "output_type": "stream",
     "text": [
      "C:\\Users\\kyuta\\anaconda3\\lib\\site-packages\\statsmodels\\miscmodels\\ordinal_model.py:419: FutureWarning: Support for multi-dimensional indexing (e.g. `obj[:, None]`) is deprecated and will be removed in a future version.  Convert to a numpy array before indexing instead.\n",
      "  xb = xb[:, None]\n"
     ]
    }
   ],
   "source": [
    "# convert the quality column to an ordered categorical type\n",
    "sample['quality'] = pd.Categorical(sample['quality'], categories=[5, 6], ordered=True)\n",
    "\n",
    "# make predictions on the test set\n",
    "predicted = chosen_res_log.model.predict(chosen_res_log.params, exog= sample[['fixed acidity', 'volatile acidity', 'citric acid', 'residual sugar', 'chlorides', 'free sulfur dioxide', 'total sulfur dioxide', 'pH', 'sulphates', 'alcohol']])\n",
    "predicted\n",
    "\n",
    "# convert the predicted values to integer values of the quality score\n",
    "pred_choice = predicted.argmax(1)\n",
    "print('Fraction of correct choice predictions')\n",
    "print((np.asarray(sample['quality'].values.codes) == pred_choice).mean())"
   ]
  }
 ],
 "metadata": {
  "kernelspec": {
   "display_name": "Python 3 (ipykernel)",
   "language": "python",
   "name": "python3"
  },
  "language_info": {
   "codemirror_mode": {
    "name": "ipython",
    "version": 3
   },
   "file_extension": ".py",
   "mimetype": "text/x-python",
   "name": "python",
   "nbconvert_exporter": "python",
   "pygments_lexer": "ipython3",
   "version": "3.10.9"
  }
 },
 "nbformat": 4,
 "nbformat_minor": 5
}
